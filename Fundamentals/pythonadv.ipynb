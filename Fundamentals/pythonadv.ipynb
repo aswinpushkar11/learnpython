{
 "cells": [
  {
   "cell_type": "code",
   "execution_count": 2,
   "metadata": {},
   "outputs": [
    {
     "name": "stdout",
     "output_type": "stream",
     "text": [
      "['__class__', '__delattr__', '__dict__', '__dir__', '__doc__', '__eq__', '__format__', '__ge__', '__getattribute__', '__getstate__', '__gt__', '__hash__', '__init__', '__init_subclass__', '__le__', '__lt__', '__module__', '__ne__', '__new__', '__reduce__', '__reduce_ex__', '__repr__', '__setattr__', '__sizeof__', '__str__', '__subclasshook__', '__weakref__']\n",
      "This class\n",
      "contain\n",
      "student details\n"
     ]
    }
   ],
   "source": [
    "#doc string\n",
    "class Student:\n",
    "    'This class\\ncontain\\nstudent details'\n",
    "print(dir(Student))\n",
    "print(Student.__doc__)"
   ]
  },
  {
   "cell_type": "code",
   "execution_count": 3,
   "metadata": {},
   "outputs": [
    {
     "name": "stdout",
     "output_type": "stream",
     "text": [
      "11\n",
      "Aswin\n",
      "95\n",
      "Aswin's roll no is 11,he has scored 95 out of 100\n",
      "{'__module__': '__main__', '__doc__': 'This is a Student Class', '__init__': <function Student.__init__ at 0x7f9930bff2e0>, 'talk': <function Student.talk at 0x7f9930bffa60>, '__dict__': <attribute '__dict__' of 'Student' objects>, '__weakref__': <attribute '__weakref__' of 'Student' objects>}\n",
      "['__class__', '__delattr__', '__dict__', '__dir__', '__doc__', '__eq__', '__format__', '__ge__', '__getattribute__', '__getstate__', '__gt__', '__hash__', '__init__', '__init_subclass__', '__le__', '__lt__', '__module__', '__ne__', '__new__', '__reduce__', '__reduce_ex__', '__repr__', '__setattr__', '__sizeof__', '__str__', '__subclasshook__', '__weakref__', 'talk']\n",
      "{'rollno': 11, 'name': 'Aswin', 'marks': 95}\n",
      "['__class__', '__delattr__', '__dict__', '__dir__', '__doc__', '__eq__', '__format__', '__ge__', '__getattribute__', '__getstate__', '__gt__', '__hash__', '__init__', '__init_subclass__', '__le__', '__lt__', '__module__', '__ne__', '__new__', '__reduce__', '__reduce_ex__', '__repr__', '__setattr__', '__sizeof__', '__str__', '__subclasshook__', '__weakref__', 'marks', 'name', 'rollno', 'talk']\n"
     ]
    }
   ],
   "source": [
    "#basic example\n",
    "class Student:\n",
    "    'This is a Student Class'\n",
    "    def __init__(self):\n",
    "        self.rollno=11\n",
    "        self.name=\"Aswin\" \n",
    "        self.marks=95\n",
    "\n",
    "    def talk(self):\n",
    "        print(f\"{self.name}'s roll no is {self.rollno},he has scored {self.marks} out of 100\")\n",
    "\n",
    "s=Student()\n",
    "print(s.rollno)\n",
    "print(s.name)\n",
    "print(s.marks)\n",
    "s.talk()\n",
    "print(Student.__dict__)\n",
    "print(dir(Student))\n",
    "print(s.__dict__)\n",
    "print(dir(s))"
   ]
  },
  {
   "cell_type": "code",
   "execution_count": null,
   "metadata": {},
   "outputs": [
    {
     "name": "stdout",
     "output_type": "stream",
     "text": [
      "Constructor Execution\n",
      "Method Execution\n",
      "Constructor Execution\n",
      "Constructor Execution\n"
     ]
    }
   ],
   "source": [
    " #Constructor Execution\n",
    "class Test:\n",
    "    def __init__(self):\n",
    "        print('Constructor Execution')\n",
    "\n",
    "    def m1(self):\n",
    "        print('Method Execution')\n",
    "\n",
    "t=Test()\n",
    "t.m1()\n",
    "t1=Test()\n",
    "t2=Test()"
   ]
  },
  {
   "cell_type": "code",
   "execution_count": 28,
   "metadata": {},
   "outputs": [
    {
     "name": "stdout",
     "output_type": "stream",
     "text": [
      "{'a': 10, 'b': 20}\n",
      "{'a': 10, 'b': 20, 'c': 30}\n",
      "{'a': 10, 'b': 20, 'c': 30, 'd': 40}\n",
      "{'a': 999, 'b': 20, 'c': 30, 'd': 40}\n",
      "{'a': 10, 'b': 20}\n"
     ]
    }
   ],
   "source": [
    "#Instance variables\n",
    "\n",
    "class Test:\n",
    "    def __init__(self):\n",
    "        self.a=10\n",
    "        self.b=20\n",
    "\n",
    "    def m1(self):\n",
    "        self.c=30\n",
    "\n",
    "t=Test()\n",
    "print(t.__dict__)\n",
    "#calling method m1()\n",
    "t.m1()\n",
    "print(t.__dict__)\n",
    "#add instance variable using obj ref var\n",
    "t.d=40\n",
    "print(t.__dict__)\n",
    "t.a=999\n",
    "print(t.__dict__)\n",
    "t1=Test()\n",
    "print(t1.__dict__)"
   ]
  },
  {
   "cell_type": "code",
   "execution_count": 4,
   "metadata": {},
   "outputs": [
    {
     "name": "stdout",
     "output_type": "stream",
     "text": [
      "['__class__', '__delattr__', '__dict__', '__dir__', '__doc__', '__eq__', '__format__', '__ge__', '__getattribute__', '__getstate__', '__gt__', '__hash__', '__init__', '__init_subclass__', '__le__', '__lt__', '__module__', '__ne__', '__new__', '__reduce__', '__reduce_ex__', '__repr__', '__setattr__', '__sizeof__', '__str__', '__subclasshook__', '__weakref__', 'a', 'b', 'm1', 'm2', 'm3']\n",
      "{'__module__': '__main__', '__doc__': 'module created by aswinpushkar', 'a': 10, '__init__': <function Test.__init__ at 0x7f9930bff380>, 'm1': <function Test.m1 at 0x7f9930bfee80>, 'm2': <classmethod(<function Test.m2 at 0x7f9930bffec0>)>, 'm3': <staticmethod(<function Test.m3 at 0x7f9930bff7e0>)>, '__dict__': <attribute '__dict__' of 'Test' objects>, '__weakref__': <attribute '__weakref__' of 'Test' objects>, 'b': 20}\n",
      "{'__module__': '__main__', '__doc__': 'module created by aswinpushkar', 'a': 10, '__init__': <function Test.__init__ at 0x7f9930bff380>, 'm1': <function Test.m1 at 0x7f9930bfee80>, 'm2': <classmethod(<function Test.m2 at 0x7f9930bffec0>)>, 'm3': <staticmethod(<function Test.m3 at 0x7f9930bff7e0>)>, '__dict__': <attribute '__dict__' of 'Test' objects>, '__weakref__': <attribute '__weakref__' of 'Test' objects>, 'b': 20, 'c': 30}\n",
      "{'__module__': '__main__', '__doc__': 'module created by aswinpushkar', 'a': 10, '__init__': <function Test.__init__ at 0x7f9930bff380>, 'm1': <function Test.m1 at 0x7f9930bfee80>, 'm2': <classmethod(<function Test.m2 at 0x7f9930bffec0>)>, 'm3': <staticmethod(<function Test.m3 at 0x7f9930bff7e0>)>, '__dict__': <attribute '__dict__' of 'Test' objects>, '__weakref__': <attribute '__weakref__' of 'Test' objects>, 'b': 20, 'c': 30, 'd': 40, 'd2': 50}\n",
      "{'__module__': '__main__', '__doc__': 'module created by aswinpushkar', 'a': 10, '__init__': <function Test.__init__ at 0x7f9930bff380>, 'm1': <function Test.m1 at 0x7f9930bfee80>, 'm2': <classmethod(<function Test.m2 at 0x7f9930bffec0>)>, 'm3': <staticmethod(<function Test.m3 at 0x7f9930bff7e0>)>, '__dict__': <attribute '__dict__' of 'Test' objects>, '__weakref__': <attribute '__weakref__' of 'Test' objects>, 'b': 20, 'c': 30, 'd': 40, 'd2': 50, 'e': 60}\n"
     ]
    }
   ],
   "source": [
    "#Static/Class  variables\n",
    "\n",
    "class Test:\n",
    "    '''module created by aswinpushkar'''\n",
    "    a=10\n",
    "    def __init__(self):\n",
    "        Test.b=20\n",
    "    def m1(self):\n",
    "        Test.c=30\n",
    "    @classmethod\n",
    "    def m2(cls):\n",
    "        cls.d=40\n",
    "        Test.d2=50\n",
    "    @staticmethod\n",
    "    def m3():\n",
    "        Test.e=60\n",
    "\n",
    "t=Test()\n",
    "print(dir(Test))\n",
    "print(Test.__dict__)\n",
    "t.m1()\n",
    "print(Test.__dict__)\n",
    "t.m2()\n",
    "print(Test.__dict__)\n",
    "t.m3()\n",
    "print(Test.__dict__)\n"
   ]
  },
  {
   "cell_type": "code",
   "execution_count": 41,
   "metadata": {},
   "outputs": [
    {
     "name": "stdout",
     "output_type": "stream",
     "text": [
      "Hi, aswin\n",
      "Your Marks: 67\n",
      "You have got first grade\n",
      "Hi, hazard\n",
      "Your Marks: 30\n",
      "Failed\n"
     ]
    }
   ],
   "source": [
    "#Instance Method\n",
    "\n",
    "class Student:\n",
    "    def __init__(self,name,marks):\n",
    "        self.name = name\n",
    "        self.marks = marks\n",
    "\n",
    "    def display(self):\n",
    "        print('Hi,',self.name)\n",
    "        print('Your Marks:',marks)\n",
    "    def grade(self):\n",
    "        if self.marks >= 60:\n",
    "            print('You have got first grade')\n",
    "        elif self.marks >= 50:\n",
    "            print('You have got second grade')\n",
    "        elif self.marks >= 40:\n",
    "            print('You have got third grade')\n",
    "        else:\n",
    "            print('Failed')\n",
    "n=int(input('Enter the number of Students:'))\n",
    "for i in range(n):\n",
    "    name=input('Enter the name of the Student:')\n",
    "    marks=int(input('Enter Marks:'))\n",
    "    s=Student(name,marks)\n",
    "    s.display()\n",
    "    s.grade()\n"
   ]
  },
  {
   "cell_type": "code",
   "execution_count": null,
   "metadata": {},
   "outputs": [
    {
     "data": {
      "text/plain": [
       "'kvs'"
      ]
     },
     "execution_count": 49,
     "metadata": {},
     "output_type": "execute_result"
    }
   ],
   "source": [
    "#setter and getter method\n",
    "\n",
    "class Student:\n",
    "    def set(self,school):\n",
    "        self.school=school\n",
    "\n",
    "    def get(self):\n",
    "        return self.school\n",
    "    \n",
    "s=Student()\n",
    "s.set('kvs')  \n",
    "s.get()\n",
    "\n",
    "    "
   ]
  },
  {
   "cell_type": "code",
   "execution_count": null,
   "metadata": {},
   "outputs": [
    {
     "name": "stdout",
     "output_type": "stream",
     "text": [
      "Crow has 2 wings\n"
     ]
    }
   ],
   "source": [
    "#Class method\n",
    "class Birds:\n",
    "    wings=2\n",
    "    @classmethod\n",
    "    def m1(cls,name):\n",
    "        print(f'{name} has {cls.wings} wings')\n",
    "b=Birds()\n",
    "b.m1('Crow')"
   ]
  },
  {
   "cell_type": "code",
   "execution_count": 54,
   "metadata": {},
   "outputs": [
    {
     "name": "stdout",
     "output_type": "stream",
     "text": [
      "Number of Objects 0\n",
      "Number of Objects 1\n",
      "Number of Objects 4\n"
     ]
    }
   ],
   "source": [
    "#Tracking the number of objects created for a class\n",
    "class Test:\n",
    "    count=0\n",
    "    def __init__(self):\n",
    "        Test.count+=1\n",
    "\n",
    "    @classmethod\n",
    "    def m1(cls):\n",
    "        print('Number of Objects',cls.count)\n",
    "Test.m1()\n",
    "t=Test()\n",
    "t.m1()\n",
    "t1=Test()\n",
    "t2=Test()\n",
    "t3=Test()\n",
    "t.m1()"
   ]
  },
  {
   "cell_type": "code",
   "execution_count": null,
   "metadata": {},
   "outputs": [
    {
     "name": "stdout",
     "output_type": "stream",
     "text": [
      "The sum is 9\n",
      "The diff is 1\n",
      "The product is 20\n"
     ]
    }
   ],
   "source": [
    "#Static Method\n",
    "class learnmath:\n",
    "    @ staticmethod\n",
    "    def add(a,b):\n",
    "        print('The sum is',a+b)\n",
    "    @staticmethod\n",
    "    def sub(a,b):\n",
    "        print('The diff is',a-b)\n",
    "    @staticmethod\n",
    "    def mul(a,b):\n",
    "        print('The product is',a*b)\n",
    "l=learnmath()\n",
    "l.add(5,4)\n",
    "l.sub(5,4)\n",
    "l.mul(5,4)"
   ]
  },
  {
   "cell_type": "code",
   "execution_count": null,
   "metadata": {},
   "outputs": [],
   "source": [
    "#Static Method=Without decorator\n",
    "class learnmath:\n",
    "    def m(x):\n",
    "        print('HelloWorld',x)\n",
    "    @ staticmethod\n",
    "    def add(a,b):\n",
    "        print('The sum is',a+b)\n",
    "    @staticmethod\n",
    "    def sub(a,b):\n",
    "        print('The diff is',a-b)\n",
    "    @staticmethod\n",
    "    def mul(a,b):\n",
    "        print('The product is',a*b)\n",
    "l=learnmath()\n",
    "#l.m()  Acts as Instance method\n",
    "#using classname acts as Static method\n",
    "learnmath.m('aswin')\n",
    "l.add(5,4)\n",
    "l.sub(5,4)\n",
    "l.mul(5,4)"
   ]
  },
  {
   "cell_type": "code",
   "execution_count": 63,
   "metadata": {},
   "outputs": [
    {
     "name": "stdout",
     "output_type": "stream",
     "text": [
      "Employee No:100\n",
      "Employee Name:Aswin\n",
      "Employee Salary:20000\n"
     ]
    }
   ],
   "source": [
    "#Members of one class inside another class\n",
    "\n",
    "class Employee:\n",
    "    def __init__(self,eno,ename,esal):\n",
    "        self.eno=eno \n",
    "        self.ename=ename \n",
    "        self.esal=esal\n",
    "\n",
    "    def display(self):\n",
    "        print(f'Employee No:{self.eno}')\n",
    "        print(f'Employee Name:{self.ename}')\n",
    "        print(f'Employee Salary:{self.esal}')\n",
    "\n",
    "class Test:\n",
    "    @staticmethod\n",
    "    def modify(emp):\n",
    "        emp.esal +=10000\n",
    "        emp.display()\n",
    "e=Employee(100,'Aswin',10000)\n",
    "t=Test()\n",
    "t.modify(e)\n"
   ]
  },
  {
   "cell_type": "code",
   "execution_count": 64,
   "metadata": {},
   "outputs": [
    {
     "name": "stdout",
     "output_type": "stream",
     "text": [
      "Outer Class Constructor\n",
      "Inner Class Constructor\n",
      "Inner Class Method\n"
     ]
    }
   ],
   "source": [
    "#Nested Classes\n",
    "class Outer:\n",
    "    def __init__(self):\n",
    "        print('Outer Class Constructor')\n",
    "\n",
    "    class Inner:\n",
    "        def __init__(self):\n",
    "            print('Inner Class Constructor')\n",
    "\n",
    "        def m1(self):\n",
    "            print('Inner Class Method')\n",
    "m=Outer().Inner()\n",
    "m.m1()"
   ]
  },
  {
   "cell_type": "code",
   "execution_count": 71,
   "metadata": {},
   "outputs": [
    {
     "name": "stdout",
     "output_type": "stream",
     "text": [
      "Aswin can :\n",
      "Talk\n",
      "Think\n"
     ]
    }
   ],
   "source": [
    "#Calling an Object of Inner Class Inside Constructor\n",
    "\n",
    "class Human:\n",
    "    def __init__(self,name):\n",
    "        self.name=name\n",
    "        self.head=self.Head()\n",
    "    def m1(self):\n",
    "        print(f'{self.name} can :')\n",
    "        self.head.m2()\n",
    "        self.head.brain.m3()\n",
    "    class Head:\n",
    "        def __init__(self):\n",
    "            self.brain=self.Brain()\n",
    "        def m2(self):\n",
    "            print('Talk')\n",
    "        class Brain:\n",
    "            def m3(self):\n",
    "                print('Think')\n",
    "                    \n",
    "h=Human('Aswin')\n",
    "h.m1()"
   ]
  },
  {
   "cell_type": "code",
   "execution_count": null,
   "metadata": {},
   "outputs": [
    {
     "name": "stdout",
     "output_type": "stream",
     "text": [
      "True\n"
     ]
    }
   ],
   "source": [
    "#garbage collector\n",
    "import gc\n",
    "print(gc.isenabled())#by default"
   ]
  },
  {
   "cell_type": "code",
   "execution_count": 75,
   "metadata": {},
   "outputs": [
    {
     "name": "stdout",
     "output_type": "stream",
     "text": [
      "Object Initialisation\n",
      "Object Initialisation\n",
      "Destructor Called\n",
      "Destructor Called\n",
      "End of Application\n"
     ]
    }
   ],
   "source": [
    "#Destructor\n",
    "import time\n",
    "class Test:\n",
    "    def __init__(self):\n",
    "        print('Object Initialisation')\n",
    "    def __del__(self):\n",
    "        print('Destructor Called')\n",
    "\n",
    "t1=Test()\n",
    "t2=Test()\n",
    "t1=None\n",
    "t2=None\n",
    "time.sleep(10)\n",
    "print('End of Application')"
   ]
  },
  {
   "cell_type": "code",
   "execution_count": 77,
   "metadata": {},
   "outputs": [
    {
     "name": "stdout",
     "output_type": "stream",
     "text": [
      "Object Initialisation\n",
      "Destructor not called after del t1\n",
      "Destructor not called after del t2\n",
      "Destructor Called\n",
      "End of Application\n"
     ]
    }
   ],
   "source": [
    "#Destructor\n",
    "import time\n",
    "class Test:\n",
    "    def __init__(self):\n",
    "        print('Object Initialisation')\n",
    "    def __del__(self):\n",
    "        print('Destructor Called')\n",
    "\n",
    "t1=Test()\n",
    "t2=t1\n",
    "t3=t2\n",
    "del t1 \n",
    "time.sleep(5)\n",
    "print('Destructor not called after del t1')\n",
    "del t2\n",
    "time.sleep(5)\n",
    "print('Destructor not called after del t2')\n",
    "del t3\n",
    "time.sleep(5)\n",
    "print('End of Application')"
   ]
  },
  {
   "cell_type": "code",
   "execution_count": 78,
   "metadata": {},
   "outputs": [
    {
     "name": "stdout",
     "output_type": "stream",
     "text": [
      "Object Initialisation\n",
      "Object Initialisation\n",
      "Object Initialisation\n",
      "Destructor Called\n",
      "Destructor Called\n",
      "Destructor Called\n",
      "End of Application\n"
     ]
    }
   ],
   "source": [
    "#Destructor-Collection of Objects\n",
    "import time\n",
    "class Test:\n",
    "    def __init__(self):\n",
    "        print('Object Initialisation')\n",
    "    def __del__(self):\n",
    "        print('Destructor Called')\n",
    "\n",
    "l1=[Test(),Test(),Test()]\n",
    "del l1\n",
    "time.sleep(5)\n",
    "print('End of Application')"
   ]
  },
  {
   "cell_type": "code",
   "execution_count": null,
   "metadata": {},
   "outputs": [
    {
     "name": "stdout",
     "output_type": "stream",
     "text": [
      "Outer class object created\n",
      "Inner class object created\n",
      "Calling Inner method\n"
     ]
    }
   ],
   "source": [
    "#Inner class Concepts \n",
    "\n",
    "class University:\n",
    "    def __init__(self):\n",
    "        print('Outer class object created')\n",
    "\n",
    "    class Department:\n",
    "        def __init__(self):\n",
    "            print('Inner class object created')\n",
    "        def m1(self):\n",
    "            print('Calling Inner method')\n",
    "\n",
    "# u = University()\n",
    "# d = u.Department()\n",
    "# d.m1()\n",
    "\n",
    "# d=University().Department()\n",
    "# d.m1()\n",
    "\n",
    "University().Department().m1()"
   ]
  },
  {
   "cell_type": "code",
   "execution_count": null,
   "metadata": {},
   "outputs": [
    {
     "name": "stdout",
     "output_type": "stream",
     "text": [
      "Using Instance Method m1:\n",
      "Outer class object created\n",
      "Inner class object created\n",
      "Innerinner class object created\n",
      "Calling Nested Inner Static method\n",
      "\n",
      "Using Static method m1:\n",
      "Outer class object created\n",
      "Inner class object created\n",
      "Calling Nested Inner Static method\n"
     ]
    }
   ],
   "source": [
    "#Nested Class\n",
    "\n",
    "class Outer:\n",
    "    def __init__(self):\n",
    "        print('Outer class object created')\n",
    "\n",
    "    class Inner:\n",
    "        def __init__(self):\n",
    "            print('Inner class object created')\n",
    "\n",
    "        class Innerinner:\n",
    "            def __init__(self):\n",
    "                print('Innerinner class object created')\n",
    "            \n",
    "            def m1(self):\n",
    "                print('Calling Nested Inner method')\n",
    "            @staticmethod\n",
    "            def m1():\n",
    "                print('Calling Nested Inner Static method')\n",
    "print('Using Instance Method m1:')\n",
    "Outer().Inner().Innerinner().m1()\n",
    "print()\n",
    "print('Using Static method m1:')\n",
    "Outer().Inner().Innerinner.m1()"
   ]
  },
  {
   "cell_type": "code",
   "execution_count": null,
   "metadata": {},
   "outputs": [
    {
     "name": "stdout",
     "output_type": "stream",
     "text": [
      "Human object creation\n",
      "Head object creation\n",
      "Brain object creation\n",
      "\n",
      "Hi there,I am aswinpushkar11\n",
      "I can Talk...\n",
      "I can Think...\n"
     ]
    }
   ],
   "source": [
    "#Initiating object creation for an inner class within Outer class\n",
    "\n",
    "class Human:\n",
    "    def __init__(self,name):\n",
    "        print('Human object creation')\n",
    "        self.name = name\n",
    "        self.head = self.Head()\n",
    "        \n",
    "    def info(self):\n",
    "        print('Hi there,I am',self.name)\n",
    "        self.head.talk() \n",
    "        self.head.brain.think()\n",
    "        \n",
    "\n",
    "    class Head:\n",
    "        def __init__(self):\n",
    "            print('Head object creation')\n",
    "            self.brain = self.Brain()\n",
    "\n",
    "        def talk(self):\n",
    "            print('I can Talk...')\n",
    "\n",
    "        class Brain:\n",
    "            def __init__(self):\n",
    "                print('Brain object creation')\n",
    "\n",
    "            def think(self):\n",
    "                print('I can Think...')\n",
    "\n",
    "human = Human('aswinpushkar11')\n",
    "print()\n",
    "human.info()"
   ]
  },
  {
   "cell_type": "code",
   "execution_count": null,
   "metadata": {},
   "outputs": [
    {
     "name": "stdout",
     "output_type": "stream",
     "text": [
      "Person class creation\n",
      "Dob class creation\n",
      "Aswin Pushkar's date of birth is 27/12/2000\n"
     ]
    }
   ],
   "source": [
    "#Inner class using multiple instance variables\n",
    "\n",
    "class Person:\n",
    "    def __init__(self,name,dd,mm,yyyy):\n",
    "        print('Person class creation')\n",
    "        self.name = name\n",
    "        self.dob = self.Dob(dd,mm,yyyy)\n",
    "\n",
    "    def display(self):\n",
    "        print(f\"{(self.name).title()}'s date of birth is \",end='')\n",
    "        self.dob.info()\n",
    "        \n",
    "    class Dob:\n",
    "        def __init__(self,dd,mm,yyyy):\n",
    "            print('Dob class creation')\n",
    "            self.dd = dd\n",
    "            self.mm = mm\n",
    "            self.yyyy = yyyy \n",
    "        \n",
    "        def info(self):\n",
    "            print(f'{self.dd}/{self.mm}/{self.yyyy}')\n",
    "\n",
    "p=Person('aswin pushkar',27,12,2000)\n",
    "p.display()"
   ]
  },
  {
   "cell_type": "code",
   "execution_count": null,
   "metadata": {},
   "outputs": [
    {
     "name": "stdout",
     "output_type": "stream",
     "text": [
      "Method One\n",
      "The sum is: 30\n",
      "The prd is: 200\n",
      "The diff is: -10\n",
      "\n",
      "The sum is: 50\n",
      "The prd is: 600\n",
      "The diff is: -10\n",
      "\n",
      "The sum is: 70\n",
      "The prd is: 1200\n",
      "The diff is: -10\n",
      "\n"
     ]
    }
   ],
   "source": [
    "#Nested methods\n",
    "\n",
    "class Test:\n",
    "    def m1(self):\n",
    "        print('Method One')\n",
    "        def m2(a,b):\n",
    "            print('The sum is:',a+b)\n",
    "            print('The prd is:',a*b)\n",
    "            print('The diff is:',a-b)\n",
    "            print()\n",
    "        m2(10,20)\n",
    "        m2(20,30)\n",
    "        m2(30,40)\n",
    "\n",
    "\n",
    "t=Test()\n",
    "t.m1()\n",
    "\n"
   ]
  },
  {
   "cell_type": "code",
   "execution_count": null,
   "metadata": {},
   "outputs": [
    {
     "name": "stdout",
     "output_type": "stream",
     "text": [
      "True\n"
     ]
    }
   ],
   "source": [
    "#garbage collector \n",
    "import gc\n",
    "# print(gc.isenabled())\n",
    "# gc.disable()\n",
    "# print(gc.isenabled())\n",
    "# gc.enable()\n",
    "print(gc.isenabled())"
   ]
  },
  {
   "cell_type": "code",
   "execution_count": 116,
   "metadata": {},
   "outputs": [
    {
     "name": "stdout",
     "output_type": "stream",
     "text": [
      "Constructor Execution\n",
      "Destructor Execution\n",
      "End of the Programme\n"
     ]
    }
   ],
   "source": [
    "# Destructor\n",
    "import time\n",
    "class Test:\n",
    "    def __init__(self):\n",
    "        print('Constructor Execution')\n",
    "\n",
    "    def __del__(self):\n",
    "        print('Destructor Execution')\n",
    "\n",
    "t=Test()\n",
    "t=None\n",
    "time.sleep(5)\n",
    "print('End of the Programme')\n"
   ]
  },
  {
   "cell_type": "code",
   "execution_count": 117,
   "metadata": {},
   "outputs": [
    {
     "name": "stdout",
     "output_type": "stream",
     "text": [
      "Constructor Execution\n",
      "Constructor Execution\n",
      "End of the Programme\n"
     ]
    }
   ],
   "source": [
    "# example2 - Destructor\n",
    "import time\n",
    "class Test:\n",
    "    def __init__(self):\n",
    "        print('Constructor Execution')\n",
    "\n",
    "    def __del__(self):\n",
    "        print('Destructor Execution')\n",
    "\n",
    "t1=Test()\n",
    "t2=Test()\n",
    "print('End of the Programme')"
   ]
  },
  {
   "cell_type": "code",
   "execution_count": 118,
   "metadata": {},
   "outputs": [
    {
     "name": "stdout",
     "output_type": "stream",
     "text": [
      "Start of Programme\n",
      "Constructor Execution\n",
      "Destructor Execution\n",
      "Destructor Execution\n",
      "Object not removed after deleting ref var1\n",
      "Object not removed after deleting ref var1\n",
      "Removing last ref var\n",
      "Destructor Execution\n",
      "End of the Programme\n"
     ]
    }
   ],
   "source": [
    "# example3 - Destructor \n",
    "import time\n",
    "class Test:\n",
    "    def __init__(self):\n",
    "        print('Constructor Execution')\n",
    "\n",
    "    def __del__(self):\n",
    "        print('Destructor Execution')\n",
    "\n",
    "\n",
    "print('Start of Programme')\n",
    "t1=Test()\n",
    "t2=t1\n",
    "t3=t1\n",
    "\n",
    "del t1\n",
    "time.sleep(5)\n",
    "print('Object not removed after deleting ref var1')\n",
    "del t2\n",
    "time.sleep(5)\n",
    "print('Object not removed after deleting ref var1')\n",
    "print('Removing last ref var')\n",
    "del t3\n",
    "time.sleep(5)\n",
    "print('End of the Programme')"
   ]
  },
  {
   "cell_type": "code",
   "execution_count": 1,
   "metadata": {},
   "outputs": [
    {
     "name": "stdout",
     "output_type": "stream",
     "text": [
      "Car specific Functionality\n",
      "Engine specific functionality\n"
     ]
    }
   ],
   "source": [
    "#Composition-HAS A relationship :CAR HAS AN ENGINE\n",
    "class Engine:\n",
    "    def m1(self):\n",
    "        print('Engine specific functionality')\n",
    "\n",
    "class Car:\n",
    "    def __init__(self):\n",
    "        self.engine=Engine()\n",
    "\n",
    "    def m2(self):\n",
    "        print('Car specific Functionality')\n",
    "        self.engine.m1()\n",
    "\n",
    "c=Car()\n",
    "c.m2()"
   ]
  },
  {
   "cell_type": "code",
   "execution_count": 120,
   "metadata": {},
   "outputs": [
    {
     "name": "stdout",
     "output_type": "stream",
     "text": [
      "Emp No:101\n",
      "Emp Name:aswinpushkar\n",
      "Employee Car Details:\n",
      "Car:Skoda,Vesion:1.5,Model:Slavia\n"
     ]
    }
   ],
   "source": [
    "#example 2\n",
    "#EMPLOYEE HAS A CAR\n",
    "class Car:\n",
    "\n",
    "    def __init__(self,name,model,version):\n",
    "        self.name = name\n",
    "        self.model = model\n",
    "        self.version = version\n",
    "\n",
    "    def info(self):\n",
    "        print(f'Car:{self.name},Vesion:{self.version},Model:{self.model}')\n",
    "\n",
    "class Employee:\n",
    "\n",
    "    def __init__(self,eno,ename,car):\n",
    "        self.eno = eno\n",
    "        self.ename = ename\n",
    "        self.car = car\n",
    "\n",
    "    def details(self):\n",
    "        print(f'Emp No:{self.eno}\\nEmp Name:{self.ename}')\n",
    "        print('Employee Car Details:')\n",
    "        self.car.info()\n",
    "\n",
    "car = Car('Skoda','Slavia',1.5)\n",
    "emp = Employee(101,'aswinpushkar',car)\n",
    "emp.details()\n"
   ]
  },
  {
   "cell_type": "code",
   "execution_count": 141,
   "metadata": {},
   "outputs": [
    {
     "name": "stdout",
     "output_type": "stream",
     "text": [
      "The Hindu\n",
      "\n",
      "sportsnews1\n",
      "sportsnews2\n",
      "sportsnews3\n",
      "sportsnews4\n",
      "\n",
      "movienews1\n",
      "movienews2\n",
      "movienews3\n",
      "movienews4\n",
      "\n",
      "politicsnews1\n",
      "politicsnews2\n",
      "politicsnews3\n",
      "politicsnews4\n",
      "\n"
     ]
    }
   ],
   "source": [
    "#COMPOSITION - APPLICATION - (approach1)\n",
    "\n",
    "class Sports:\n",
    "    def sportsnews(self):\n",
    "        print('sportsnews1')\n",
    "        print('sportsnews2')\n",
    "        print('sportsnews3')\n",
    "        print('sportsnews4')\n",
    "        print()\n",
    "\n",
    "class Movies:\n",
    "    def movienews(self):\n",
    "        print('movienews1')\n",
    "        print('movienews2')\n",
    "        print('movienews3')\n",
    "        print('movienews4')\n",
    "        print()\n",
    "\n",
    "class Politics:\n",
    "    def politicsnews(self):\n",
    "        print('politicsnews1')\n",
    "        print('politicsnews2')\n",
    "        print('politicsnews3')\n",
    "        print('politicsnews4')\n",
    "        print()\n",
    "\n",
    "class News:\n",
    "    def __init__(self):\n",
    "        self.sports=Sports()\n",
    "        self.movies=Movies()\n",
    "        self.politics=Politics()\n",
    "    def getinfo(self):\n",
    "        print('The Hindu')\n",
    "        print()\n",
    "        self.sports.sportsnews()\n",
    "        self.movies.movienews()\n",
    "        self.politics.politicsnews()\n",
    "\n",
    "n=News()\n",
    "n.getinfo()"
   ]
  },
  {
   "cell_type": "code",
   "execution_count": 142,
   "metadata": {},
   "outputs": [
    {
     "name": "stdout",
     "output_type": "stream",
     "text": [
      "The Hindu\n",
      "\n",
      "sportsnews1\n",
      "sportsnews2\n",
      "sportsnews3\n",
      "sportsnews4\n",
      "\n",
      "movienews1\n",
      "movienews2\n",
      "movienews3\n",
      "movienews4\n",
      "\n",
      "politicsnews1\n",
      "politicsnews2\n",
      "politicsnews3\n",
      "politicsnews4\n",
      "\n"
     ]
    }
   ],
   "source": [
    "#COMPOSITION - APPLICATION (approach2)\n",
    "\n",
    "class Sports:\n",
    "    def sportsnews(self):\n",
    "        print('sportsnews1')\n",
    "        print('sportsnews2')\n",
    "        print('sportsnews3')\n",
    "        print('sportsnews4')\n",
    "        print()\n",
    "\n",
    "class Movies:\n",
    "    def movienews(self):\n",
    "        print('movienews1')\n",
    "        print('movienews2')\n",
    "        print('movienews3')\n",
    "        print('movienews4')\n",
    "        print()\n",
    "\n",
    "class Politics:\n",
    "    def politicsnews(self):\n",
    "        print('politicsnews1')\n",
    "        print('politicsnews2')\n",
    "        print('politicsnews3')\n",
    "        print('politicsnews4')\n",
    "        print()\n",
    "\n",
    "class News:\n",
    "    def __init__(self,s,m,p):\n",
    "        self.s=s\n",
    "        self.m=m\n",
    "        self.p=p\n",
    "          \n",
    "    def getinfo(self):\n",
    "        print('The Hindu')\n",
    "        print()\n",
    "        self.s.sportsnews()\n",
    "        self.m.movienews()\n",
    "        self.p.politicsnews()\n",
    "\n",
    "s=Sports()\n",
    "m=Movies()\n",
    "p=Politics()\n",
    "\n",
    "n=News(s,m,p)\n",
    "n.getinfo()"
   ]
  },
  {
   "cell_type": "code",
   "execution_count": 121,
   "metadata": {},
   "outputs": [
    {
     "name": "stdout",
     "output_type": "stream",
     "text": [
      "Parent Constructor\n",
      "10\n",
      "20\n",
      "Parent class Method\n",
      "Class method\n",
      "Static method\n"
     ]
    }
   ],
   "source": [
    "#INHERITANCE --IS A relationship\n",
    "class Parent:\n",
    "    a=10\n",
    "    def __init__(self):\n",
    "        print('Parent Constructor')\n",
    "        self.b=20\n",
    "\n",
    "    def m1(self):\n",
    "        print('Parent class Method')\n",
    "    @classmethod\n",
    "    def m2(cls):\n",
    "        print('Class method')\n",
    "\n",
    "    @staticmethod\n",
    "    def m3():\n",
    "        print('Static method')\n",
    "\n",
    "class Child(Parent):\n",
    "    pass\n",
    "\n",
    "c = Child()\n",
    "print(c.a)\n",
    "print(c.b)\n",
    "c.m1()\n",
    "c.m2()\n",
    "c.m3()"
   ]
  },
  {
   "cell_type": "code",
   "execution_count": 122,
   "metadata": {},
   "outputs": [
    {
     "name": "stdout",
     "output_type": "stream",
     "text": [
      "Child Constructor\n",
      "aswin\n",
      "25\n",
      "1224324\n",
      "28k\n",
      "Eat biriyani and drink beer\n",
      "Python developer\n"
     ]
    }
   ],
   "source": [
    "#Example2 - INHERITANCE --IS A relationship(Without super())\n",
    "class Person:\n",
    "    def __init__(self,name,age):\n",
    "        print('Parent Constructor')\n",
    "        self.name = name\n",
    "        self.age = age\n",
    "\n",
    "    def eatndrink(self):\n",
    "        print('Eat biriyani and drink beer')\n",
    "\n",
    "class Employee(Person):\n",
    "    def __init__(self, name, age,eno,esal):\n",
    "        print('Child Constructor')\n",
    "        self.name = name\n",
    "        self.age = age\n",
    "        self.eno = eno\n",
    "        self.esal = esal\n",
    "\n",
    "    def work(self):\n",
    "        print(\"Python developer\")\n",
    "\n",
    "    def empinfo(self):\n",
    "        print(self.name)\n",
    "        print(self.age)\n",
    "        print(self.eno)\n",
    "        print(self.esal)\n",
    "\n",
    "e = Employee('aswin',25,1224324,'28k')\n",
    "e.empinfo()\n",
    "e.eatndrink()\n",
    "e.work()\n",
    "\n",
    "        "
   ]
  },
  {
   "cell_type": "code",
   "execution_count": 123,
   "metadata": {},
   "outputs": [
    {
     "name": "stdout",
     "output_type": "stream",
     "text": [
      "Child Constructor\n",
      "Parent Constructor\n",
      "aswin\n",
      "25\n",
      "1224324\n",
      "28k\n",
      "Eat biriyani and drink beer\n",
      "Python developer\n"
     ]
    }
   ],
   "source": [
    "#Example2 - INHERITANCE --IS A relationship(With super())\n",
    "class Person:\n",
    "    def __init__(self,name,age):\n",
    "        print('Parent Constructor')\n",
    "        self.name = name\n",
    "        self.age = age\n",
    "\n",
    "    def eatndrink(self):\n",
    "        print('Eat biriyani and drink beer')\n",
    "\n",
    "class Employee(Person):\n",
    "    def __init__(self, name, age,eno,esal):\n",
    "        print('Child Constructor')\n",
    "        super().__init__(name,age)\n",
    "        self.eno = eno\n",
    "        self.esal = esal\n",
    "\n",
    "    def work(self):\n",
    "        print(\"Python developer\")\n",
    "\n",
    "    def empinfo(self):\n",
    "        print(self.name)\n",
    "        print(self.age)\n",
    "        print(self.eno)\n",
    "        print(self.esal)\n",
    "\n",
    "e = Employee('aswin',25,1224324,'28k')\n",
    "e.empinfo()\n",
    "e.eatndrink()\n",
    "e.work()\n",
    "# Notice how Constructors are being called\n",
    "        "
   ]
  },
  {
   "cell_type": "code",
   "execution_count": 124,
   "metadata": {},
   "outputs": [
    {
     "name": "stdout",
     "output_type": "stream",
     "text": [
      "Parent Constructor\n"
     ]
    }
   ],
   "source": [
    "class Parent:\n",
    "    def __init__(self):\n",
    "        print('Parent Constructor')\n",
    "        self.b=10\n",
    "\n",
    "class Child(Parent):\n",
    "    def __init__(self):\n",
    "       super().__init__()\n",
    "   \n",
    "\n",
    "c=Child()\n"
   ]
  },
  {
   "cell_type": "code",
   "execution_count": 125,
   "metadata": {},
   "outputs": [
    {
     "name": "stdout",
     "output_type": "stream",
     "text": [
      "Aswin likes beer-biriyani\n",
      "Aswin is a Python Developer\n",
      "Employee Information:\n",
      "\tEmployee name :Aswin\n",
      "\tEmployeeAge:29\n",
      "\tEmployeeNo=1224324\n",
      "\tEmployeeSal=28k\n",
      "\n",
      "The specifications of the car are:\n",
      "\tCompanyName:Skoda\n",
      "\tModel:Slavia\n",
      "\tVesrsion:1.5T\n"
     ]
    }
   ],
   "source": [
    "# Application of Inheritance and Composition\n",
    "\n",
    "class Car:\n",
    "    def __init__(self,name,model,version):\n",
    "        self.name = name\n",
    "        self.model = model\n",
    "        self.version = version\n",
    "    \n",
    "    def getcarinfo(self):\n",
    "        print(f'The specifications of the car are:\\n\\tCompanyName:{self.name}\\n\\tModel:{self.model}\\n\\tVesrsion:{self.version}')\n",
    "\n",
    "\n",
    "class Person:\n",
    "    def __init__(self,name,age):\n",
    "        self.name = name\n",
    "        self.age = age\n",
    "\n",
    "    def eatndrink(self):\n",
    "        print(f'{self.name} likes beer-biriyani')\n",
    "\n",
    "\n",
    "class Employee(Person):\n",
    "    def __init__(self, name, age, eno, esal, car):\n",
    "        super().__init__(name, age)\n",
    "        self.eno = eno\n",
    "        self.esal = esal\n",
    "        self.car = car\n",
    "    def getworkinfo(self):\n",
    "        print(f'{self.name} is a Python Developer')\n",
    "    def getinfo(self):\n",
    "        print('Employee Information:')\n",
    "        print(f'\\tEmployee name :{self.name}\\n\\tEmployeeAge:{self.age}\\n\\tEmployeeNo={self.eno}\\n\\tEmployeeSal={self.esal}')\n",
    "        print()\n",
    "        self.car.getcarinfo()\n",
    "\n",
    "c=Car('Skoda','Slavia','1.5T')\n",
    "e=Employee('Aswin',29,1224324,'28k',c)\n",
    "e.eatndrink()\n",
    "e.getworkinfo()\n",
    "e.getinfo()\n",
    "# e.car.getcarinfo()\n",
    "\n"
   ]
  },
  {
   "cell_type": "code",
   "execution_count": 126,
   "metadata": {},
   "outputs": [
    {
     "name": "stdout",
     "output_type": "stream",
     "text": [
      "Univ Constructor\n",
      "Dept Constructor\n"
     ]
    }
   ],
   "source": [
    "#COMPOSITIION:Without University(Container Obj)- Department(Contained Obj) doesn't exist\n",
    "\n",
    "class University:\n",
    "    def __init__(self):\n",
    "        print('Univ Constructor')\n",
    "        self.dept = self.Department()\n",
    "    class Department:\n",
    "        def __init__(self):\n",
    "            print('Dept Constructor')\n",
    "\n",
    "u = University()\n",
    "#d=Department() --invalid\n"
   ]
  },
  {
   "cell_type": "code",
   "execution_count": 127,
   "metadata": {},
   "outputs": [
    {
     "name": "stdout",
     "output_type": "stream",
     "text": [
      "Dept constructor\n",
      "Dept constructor\n"
     ]
    }
   ],
   "source": [
    "##AGGREGATION :Without existing Department(Container) -Professor(Contained Obj) exist\n",
    "\n",
    "class Professor:\n",
    "        pass\n",
    "\n",
    "class Department:\n",
    "        def __init__(self,prof):\n",
    "                print('Dept constructor')\n",
    "                self.prof = prof\n",
    "\n",
    "prof = Professor()\n",
    "deptit=Department(prof)\n",
    "deptcs=Department(prof)\n",
    "    "
   ]
  },
  {
   "cell_type": "code",
   "execution_count": 128,
   "metadata": {},
   "outputs": [
    {
     "name": "stdout",
     "output_type": "stream",
     "text": [
      "Parent Method\n",
      "Child Method\n"
     ]
    }
   ],
   "source": [
    "# INHERITANCE - Single Inheritance\n",
    "\n",
    "class P:\n",
    "    def m1(self):\n",
    "        print('Parent Method')\n",
    "\n",
    "class C(P):\n",
    "    def m2(self):\n",
    "        print('Child Method')\n",
    "\n",
    "c=C()\n",
    "c.m1()\n",
    "c.m2()\n",
    "\n"
   ]
  },
  {
   "cell_type": "code",
   "execution_count": 129,
   "metadata": {},
   "outputs": [
    {
     "name": "stdout",
     "output_type": "stream",
     "text": [
      "Sub Child's Methods:\n",
      "Parent Method\n",
      "Child Method\n",
      "Sub Child Class Method\n",
      "\n",
      "Child's Methods:\n",
      "Parent Method\n",
      "Child Method\n"
     ]
    }
   ],
   "source": [
    "# INHERITANCE - MultiLevel Inheritance\n",
    "\n",
    "class P:\n",
    "    def m1(self):\n",
    "        print('Parent Method')\n",
    "\n",
    "class C(P):\n",
    "    def m2(self):\n",
    "        print('Child Method')\n",
    "\n",
    "class CC(C):\n",
    "    def m3(self):\n",
    "        print('Sub Child Class Method')\n",
    "print(\"Sub Child's Methods:\")\n",
    "cc=CC()\n",
    "cc.m1()\n",
    "cc.m2()\n",
    "cc.m3()\n",
    "print()\n",
    "print(\"Child's Methods:\")\n",
    "c= C()\n",
    "c.m1()\n",
    "c.m2()\n",
    "\n"
   ]
  },
  {
   "cell_type": "code",
   "execution_count": 130,
   "metadata": {},
   "outputs": [
    {
     "name": "stdout",
     "output_type": "stream",
     "text": [
      "Child1's Methods:\n",
      "Method1:Parent Method\n",
      "Method2:Child1 Method\n",
      "Method3:Invalid Method for Child1\n",
      "\n",
      "Child2's Methods:\n",
      "Method1:Parent Method\n",
      "Method2:Invalid Method for Child2\n",
      "Method3:Child2 Method\n"
     ]
    }
   ],
   "source": [
    "# INHERITANCE - Hierarchial Inheritance\n",
    "\n",
    "class P:\n",
    "    def m1(self):\n",
    "        print('Parent Method')\n",
    "\n",
    "class C1(P):\n",
    "    def m2(self):\n",
    "        print('Child1 Method')\n",
    "\n",
    "class C2(P):\n",
    "    def m3(self):\n",
    "        print('Child2 Method')\n",
    "print(\"Child1's Methods:\")\n",
    "c1=C1()\n",
    "print('Method1:',end='')\n",
    "c1.m1()\n",
    "print('Method2:',end='')\n",
    "c1.m2()\n",
    "try:\n",
    "    c1.m3()\n",
    "except:\n",
    "    print(\"Method3:Invalid Method for Child1\")\n",
    "print()\n",
    "print(\"Child2's Methods:\")\n",
    "c2= C2()\n",
    "print('Method1:',end='')\n",
    "c2.m1()\n",
    "try:\n",
    "    c2.m2()\n",
    "except:\n",
    "    print(\"Method2:Invalid Method for Child2\")\n",
    "print('Method3:',end='')\n",
    "c2.m3()\n",
    "\n"
   ]
  },
  {
   "cell_type": "code",
   "execution_count": 131,
   "metadata": {},
   "outputs": [
    {
     "name": "stdout",
     "output_type": "stream",
     "text": [
      "Parent1\n",
      "Parent2\n",
      "Child Method\n"
     ]
    }
   ],
   "source": [
    "#Multiple Inheritance -diff Instance methods\n",
    "class P1:\n",
    "    def m1(self):\n",
    "        print('Parent1')\n",
    "\n",
    "class P2:\n",
    "    def m2(self):\n",
    "        print('Parent2')\n",
    "\n",
    "class C(P1,P2):\n",
    "    def m3(self):\n",
    "        print(\"Child Method\")\n",
    "\n",
    "c=C()\n",
    "c.m1()\n",
    "c.m2()\n",
    "c.m3()\n",
    "\n"
   ]
  },
  {
   "cell_type": "code",
   "execution_count": 132,
   "metadata": {},
   "outputs": [
    {
     "name": "stdout",
     "output_type": "stream",
     "text": [
      "Parent1\n"
     ]
    }
   ],
   "source": [
    "#Multiple Inheritance //Diamond Axes Problem -Same Instance methods(Parent1 first)\n",
    "class P1:   \n",
    "    def m1(self):\n",
    "        print('Parent1')\n",
    "\n",
    "class P2:\n",
    "    def m1(self):\n",
    "        print('Parent2')\n",
    "\n",
    "class C(P1,P2):\n",
    "    def m2(self):\n",
    "        print(\"Child Method\")\n",
    "\n",
    "c=C()\n",
    "c.m1()\n",
    "\n",
    "\n"
   ]
  },
  {
   "cell_type": "code",
   "execution_count": 144,
   "metadata": {},
   "outputs": [
    {
     "name": "stdout",
     "output_type": "stream",
     "text": [
      "Parent2\n",
      "140637675463904\n",
      "Child Method\n",
      "140637675463904\n"
     ]
    }
   ],
   "source": [
    "#Multiple Inheritance //Diamond Axes Problem -Same Instance methods(Parent2 first)\n",
    "class P1:   \n",
    "    def m1(self):\n",
    "        print('Parent1')\n",
    "        print(id(self))\n",
    "\n",
    "class P2:\n",
    "    def m1(self):\n",
    "        print('Parent2')\n",
    "        print(id(self))\n",
    "\n",
    "class C(P2,P1):\n",
    "    def m2(self):\n",
    "        print(\"Child Method\")\n",
    "        print(id(self))\n",
    "\n",
    "c=C()\n",
    "c.m1()\n",
    "c.m2()\n",
    "\n",
    "\n"
   ]
  },
  {
   "cell_type": "code",
   "execution_count": 134,
   "metadata": {},
   "outputs": [
    {
     "name": "stdout",
     "output_type": "stream",
     "text": [
      "[<class '__main__.A'>, <class 'object'>]\n",
      "[<class '__main__.B'>, <class '__main__.A'>, <class 'object'>]\n",
      "[<class '__main__.C'>, <class '__main__.A'>, <class 'object'>]\n",
      "[<class '__main__.D'>, <class '__main__.B'>, <class '__main__.C'>, <class '__main__.A'>, <class 'object'>]\n"
     ]
    }
   ],
   "source": [
    "#MRO algorithm\n",
    "class A:\n",
    "    pass\n",
    "class B(A):\n",
    "    pass\n",
    "class C(A):\n",
    "    pass\n",
    "class D(B,C):\n",
    "    pass\n",
    "a=A()\n",
    "print(A.mro())\n",
    "b=B()\n",
    "print(B.mro())\n",
    "c=C()\n",
    "print(C.mro())\n",
    "d=D()\n",
    "print(D.mro())"
   ]
  },
  {
   "cell_type": "code",
   "execution_count": 135,
   "metadata": {},
   "outputs": [
    {
     "name": "stdout",
     "output_type": "stream",
     "text": [
      "[<class '__main__.A'>, <class 'object'>]\n",
      "[<class '__main__.B'>, <class '__main__.A'>, <class 'object'>]\n",
      "[<class '__main__.C'>, <class '__main__.A'>, <class 'object'>]\n",
      "[<class '__main__.D'>, <class '__main__.B'>, <class '__main__.C'>, <class '__main__.A'>, <class 'object'>]\n",
      "B method\n"
     ]
    }
   ],
   "source": [
    "#MRO-EXAMPLE 1\n",
    "\n",
    "#MRO algorithm\n",
    "class A:\n",
    "    def  m1(self):\n",
    "        print('A method')\n",
    "class B(A):\n",
    "    def  m1(self):\n",
    "        print('B method')\n",
    "class C(A):\n",
    "    def  m1(self):\n",
    "        print('C method')\n",
    "class D(B,C):\n",
    "    pass\n",
    "a=A()\n",
    "print(A.mro())\n",
    "b=B()\n",
    "print(B.mro())\n",
    "c=C()\n",
    "print(C.mro())\n",
    "d=D()\n",
    "print(D.mro())\n",
    "d.m1()"
   ]
  },
  {
   "cell_type": "code",
   "execution_count": 136,
   "metadata": {},
   "outputs": [
    {
     "name": "stdout",
     "output_type": "stream",
     "text": [
      "[<class '__main__.A'>, <class 'object'>]\n",
      "[<class '__main__.B'>, <class 'object'>]\n",
      "[<class '__main__.C'>, <class 'object'>]\n",
      "[<class '__main__.D'>, <class '__main__.A'>, <class '__main__.B'>, <class 'object'>]\n",
      "[<class '__main__.F'>, <class '__main__.D'>, <class '__main__.E'>, <class '__main__.A'>, <class '__main__.B'>, <class '__main__.C'>, <class 'object'>]\n"
     ]
    },
    {
     "ename": "AttributeError",
     "evalue": "'F' object has no attribute 'm1'",
     "output_type": "error",
     "traceback": [
      "\u001b[0;31m---------------------------------------------------------------------------\u001b[0m",
      "\u001b[0;31mAttributeError\u001b[0m                            Traceback (most recent call last)",
      "Cell \u001b[0;32mIn[136], line 29\u001b[0m\n\u001b[1;32m     27\u001b[0m \u001b[38;5;28mprint\u001b[39m(F\u001b[38;5;241m.\u001b[39mmro())\n\u001b[1;32m     28\u001b[0m f\u001b[38;5;241m=\u001b[39mF()\n\u001b[0;32m---> 29\u001b[0m \u001b[43mf\u001b[49m\u001b[38;5;241;43m.\u001b[39;49m\u001b[43mm1\u001b[49m()\n",
      "\u001b[0;31mAttributeError\u001b[0m: 'F' object has no attribute 'm1'"
     ]
    }
   ],
   "source": [
    "#MRO algorithm\n",
    "class A:pass\n",
    "    # def  m1(self):\n",
    "    #     print('A method')\n",
    "class B:pass\n",
    "    # def  m1(self):\n",
    "    #     print('B method')\n",
    "class C:pass\n",
    "    # def  m1(self):\n",
    "    #     print('C method')\n",
    "class D(A,B):pass\n",
    "    # def  m1(self):\n",
    "    #     print('D method')\n",
    "\n",
    "class E(A,C):pass\n",
    "    # def  m1(self):\n",
    "    #     print('E method')\n",
    "\n",
    "class F(D,E):pass\n",
    "    # def  m1(self):\n",
    "    #     print('F method')\n",
    "\n",
    "print(A.mro())\n",
    "print(B.mro()) \n",
    "print(C.mro())\n",
    "print(D.mro())\n",
    "print(F.mro())\n",
    "f=F()\n",
    "f.m1()\n"
   ]
  },
  {
   "cell_type": "code",
   "execution_count": null,
   "metadata": {},
   "outputs": [
    {
     "name": "stdout",
     "output_type": "stream",
     "text": [
      "Child Constructor\n",
      "Parent Constructor\n",
      "Parent-Id: 139833198408288\n",
      "Child-Id: 139833198408288\n",
      "Name: Aswin\n",
      "Age: 29\n",
      "Parent Method\n",
      "Rollno: 12\n",
      "Marks: 98\n"
     ]
    }
   ],
   "source": [
    "#super class method\n",
    "#super initiates the instance  variables within the same object--hence we have the same id\n",
    "\n",
    "class Person:\n",
    "    def __init__(self,name,age):\n",
    "        print('Parent Constructor')\n",
    "        self.name = name\n",
    "        self.age = age\n",
    "        print('Parent-Id:',id(self))\n",
    "\n",
    "    def display(self):\n",
    "        print('Parent Instance Method')\n",
    "        print('Name:',self.name)\n",
    "        print('Age:',self.age)\n",
    "        \n",
    "\n",
    "class Student(Person):\n",
    "    def __init__(self, name, age,rollno,marks):\n",
    "        print('Child Constructor')\n",
    "        super().__init__(name, age)\n",
    "        self.rollno = rollno\n",
    "        self.marks = marks\n",
    "        \n",
    "        print('Child-Id:',id(self))\n",
    "\n",
    "    def display(self):\n",
    "        super().display()\n",
    "        print('Rollno:',self.rollno)\n",
    "        print('Marks:',self.marks)\n",
    "\n",
    "s=Student('Aswin',29,12,98)\n",
    "s.display()\n"
   ]
  },
  {
   "cell_type": "code",
   "execution_count": null,
   "metadata": {},
   "outputs": [
    {
     "name": "stdout",
     "output_type": "stream",
     "text": [
      "Child Constructor\n",
      "10\n",
      "Parent Instance Method\n",
      "Parent Class Method\n",
      "Parent static method\n",
      "Parent Constructor\n"
     ]
    }
   ],
   "source": [
    "#super()\n",
    "\n",
    "class P:\n",
    "    a=10\n",
    "    def __init__(self):\n",
    "        print(\"Parent Constructor\")\n",
    "    \n",
    "    def m1(self):\n",
    "        print('Parent Instance Method')\n",
    "\n",
    "    @classmethod\n",
    "    def m2(cls):\n",
    "        print('Parent Class Method')\n",
    "    \n",
    "    @staticmethod\n",
    "    def m3():\n",
    "        print('Parent static method')\n",
    "\n",
    "class C(P):\n",
    "    def __init__(self):\n",
    "       print('Child Constructor')\n",
    "\n",
    "    def method1(self):\n",
    "        print(super().a)\n",
    "        super().m1()\n",
    "        super().m2()\n",
    "        super().m3()\n",
    "        super().__init__()\n",
    "\n",
    "\n",
    "c=C()\n",
    "c.method1()"
   ]
  },
  {
   "cell_type": "code",
   "execution_count": null,
   "metadata": {},
   "outputs": [
    {
     "name": "stdout",
     "output_type": "stream",
     "text": [
      "B class method\n"
     ]
    }
   ],
   "source": [
    "#super class Multilevel Inheritance -Using classname and method(self)\n",
    "\n",
    "\n",
    "class A:\n",
    "    def m1(self):\n",
    "        print('A class method')\n",
    "class B(A):\n",
    "    def m1(self):\n",
    "        print('B class method')\n",
    "class C(B):\n",
    "    def m1(self):\n",
    "        print('C class method')\n",
    "\n",
    "class D(C):\n",
    "    def m1(self):\n",
    "        print('D class method')\n",
    "\n",
    "class E(D):\n",
    "    def m1(self):\n",
    "        B.m1(self)\n",
    "\n",
    "e=E()\n",
    "e.m1()"
   ]
  },
  {
   "cell_type": "code",
   "execution_count": null,
   "metadata": {},
   "outputs": [
    {
     "name": "stdout",
     "output_type": "stream",
     "text": [
      "A class method\n"
     ]
    }
   ],
   "source": [
    "#super class Multilevel Inheritance -Using super()\n",
    "\n",
    "\n",
    "class A:\n",
    "    def m1(self):\n",
    "        print('A class method')\n",
    "class B(A):\n",
    "    def m1(self):\n",
    "        print('B class method')\n",
    "class C(B):\n",
    "    def m1(self):\n",
    "        print('C class method')\n",
    "\n",
    "class D(C):\n",
    "    def m1(self):\n",
    "        print('D class method')\n",
    "\n",
    "class E(D):\n",
    "    def m1(self):\n",
    "        super(B,self).m1()\n",
    "\n",
    "e=E()\n",
    "e.m1()\n",
    "#outputs super of B"
   ]
  },
  {
   "cell_type": "code",
   "execution_count": 151,
   "metadata": {},
   "outputs": [
    {
     "name": "stdout",
     "output_type": "stream",
     "text": [
      "888\n",
      "11\n",
      "10\n",
      "888\n"
     ]
    },
    {
     "ename": "AttributeError",
     "evalue": "'super' object has no attribute 'b'",
     "output_type": "error",
     "traceback": [
      "\u001b[0;31m---------------------------------------------------------------------------\u001b[0m",
      "\u001b[0;31mAttributeError\u001b[0m                            Traceback (most recent call last)",
      "Cell \u001b[0;32mIn[151], line 22\u001b[0m\n\u001b[1;32m     18\u001b[0m         \u001b[38;5;28mprint\u001b[39m(\u001b[38;5;28msuper\u001b[39m()\u001b[38;5;241m.\u001b[39mb) \n\u001b[1;32m     21\u001b[0m c\u001b[38;5;241m=\u001b[39mC()\n\u001b[0;32m---> 22\u001b[0m \u001b[43mc\u001b[49m\u001b[38;5;241;43m.\u001b[39;49m\u001b[43mm1\u001b[49m\u001b[43m(\u001b[49m\u001b[43m)\u001b[49m\n",
      "Cell \u001b[0;32mIn[151], line 18\u001b[0m, in \u001b[0;36mC.m1\u001b[0;34m(self)\u001b[0m\n\u001b[1;32m     16\u001b[0m \u001b[38;5;28mprint\u001b[39m(\u001b[38;5;28mself\u001b[39m\u001b[38;5;241m.\u001b[39mb)\n\u001b[1;32m     17\u001b[0m \u001b[38;5;28mprint\u001b[39m(\u001b[38;5;28msuper\u001b[39m()\u001b[38;5;241m.\u001b[39ma)\n\u001b[0;32m---> 18\u001b[0m \u001b[38;5;28mprint\u001b[39m(\u001b[38;5;28;43msuper\u001b[39;49m\u001b[43m(\u001b[49m\u001b[43m)\u001b[49m\u001b[38;5;241;43m.\u001b[39;49m\u001b[43mb\u001b[49m)\n",
      "\u001b[0;31mAttributeError\u001b[0m: 'super' object has no attribute 'b'"
     ]
    }
   ],
   "source": [
    "#Exceptions - Child cannot access Parent instance variable with super class\n",
    "class P:\n",
    "    a=888\n",
    "    def __init__(self):\n",
    "        self.b=999\n",
    "\n",
    "class C(P):\n",
    "\n",
    "    def __init__(self):\n",
    "        super().__init__()\n",
    "        self.a=11\n",
    "        self.b=10\n",
    "    def m1(self):\n",
    "        print(P.a)\n",
    "        print(self.a)\n",
    "        print(self.b)\n",
    "        print(super().a)\n",
    "        print(super().b) \n",
    "\n",
    "\n",
    "c=C()\n",
    "c.m1()"
   ]
  },
  {
   "cell_type": "code",
   "execution_count": null,
   "metadata": {},
   "outputs": [
    {
     "name": "stdout",
     "output_type": "stream",
     "text": [
      "300\n",
      "500\n",
      "400\n"
     ]
    }
   ],
   "source": [
    "#Operator Overloading 1 - (Dunder Method __add__)\n",
    "class Book:\n",
    "    def __init__(self,pages):\n",
    "        self.pages = pages\n",
    "\n",
    "\n",
    "    def __add__(self,other):\n",
    "        total_pages = self.pages+other.pages\n",
    "        return total_pages\n",
    "\n",
    "\n",
    "b1=Book(100)\n",
    "b2=Book(200)\n",
    "b3=Book(300)\n",
    "print(b1+b2)\n",
    "print(b2+b3)\n",
    "print(b3+b1)"
   ]
  },
  {
   "cell_type": "code",
   "execution_count": null,
   "metadata": {},
   "outputs": [
    {
     "name": "stdout",
     "output_type": "stream",
     "text": [
      "False\n",
      "True\n",
      "True\n",
      "True\n"
     ]
    }
   ],
   "source": [
    "#Operator Overloading 2 - (Dunder Method __gt__,__le__)\n",
    "class Student:\n",
    "    def __init__(self,name,marks):\n",
    "        self.name=name\n",
    "        self.marks=marks\n",
    "\n",
    "    def __gt__(self,other):\n",
    "        return self.marks > other.marks\n",
    "    \n",
    "    def __le__(self,other):\n",
    "        return self.marks <= other.marks\n",
    "    \n",
    "s1=Student('a',100)\n",
    "s2=Student('b',200)\n",
    "s3=Student('c',100)\n",
    "print(s1>s2)\n",
    "print(s1<s2)\n",
    "print(s1<=s3)\n",
    "print(s2>=s3)\n"
   ]
  },
  {
   "cell_type": "code",
   "execution_count": 8,
   "metadata": {},
   "outputs": [
    {
     "name": "stdout",
     "output_type": "stream",
     "text": [
      "Monthly Salary 12500\n"
     ]
    },
    {
     "ename": "TypeError",
     "evalue": "unsupported operand type(s) for *: 'Timesheet' and 'Employee'",
     "output_type": "error",
     "traceback": [
      "\u001b[0;31m---------------------------------------------------------------------------\u001b[0m",
      "\u001b[0;31mTypeError\u001b[0m                                 Traceback (most recent call last)",
      "Cell \u001b[0;32mIn[8], line 20\u001b[0m\n\u001b[1;32m     18\u001b[0m t\u001b[38;5;241m=\u001b[39mTimesheet(\u001b[38;5;124m'\u001b[39m\u001b[38;5;124ma\u001b[39m\u001b[38;5;124m'\u001b[39m,\u001b[38;5;241m25\u001b[39m)\n\u001b[1;32m     19\u001b[0m \u001b[38;5;28mprint\u001b[39m(\u001b[38;5;124m'\u001b[39m\u001b[38;5;124mMonthly Salary\u001b[39m\u001b[38;5;124m'\u001b[39m,s\u001b[38;5;241m*\u001b[39mt)\n\u001b[0;32m---> 20\u001b[0m \u001b[38;5;28mprint\u001b[39m(\u001b[38;5;124m'\u001b[39m\u001b[38;5;124mMonthly Salary\u001b[39m\u001b[38;5;124m'\u001b[39m,\u001b[43mt\u001b[49m\u001b[38;5;241;43m*\u001b[39;49m\u001b[43ms\u001b[49m)\u001b[38;5;66;03m#order of objects is imp\u001b[39;00m\n",
      "\u001b[0;31mTypeError\u001b[0m: unsupported operand type(s) for *: 'Timesheet' and 'Employee'"
     ]
    }
   ],
   "source": [
    "#Operator Overloading 3 - (Dunder Method __mul__)\n",
    "\n",
    "class Employee:\n",
    "    def __init__(self,name,salaryperday):\n",
    "        self.name=name\n",
    "        self.salaryperday=salaryperday\n",
    "    def __mul__(self,other):\n",
    "        return self.salaryperday*other.workingdays\n",
    "\n",
    "class Timesheet:\n",
    "    def __init__(self,name,workingdays):\n",
    "        self.name=name\n",
    "        self.workingdays=workingdays\n",
    "    # def __mul__(self,other):\n",
    "    #     return self.workingdays*other.salaryperday\n",
    "\n",
    "s=Employee('a',500)\n",
    "t=Timesheet('a',25)\n",
    "print('Monthly Salary',s*t)\n",
    "print('Monthly Salary',t*s)#order of objects is imp"
   ]
  },
  {
   "cell_type": "code",
   "execution_count": 10,
   "metadata": {},
   "outputs": [
    {
     "name": "stdout",
     "output_type": "stream",
     "text": [
      "<__main__.Student object at 0x7feb6853a330>\n",
      "<__main__.Student object at 0x7feb6853b440>\n"
     ]
    }
   ],
   "source": [
    "#__str__ method \n",
    "class Student:\n",
    "    def __init__(self,name,rollno,marks):\n",
    "        self.name = name\n",
    "        self.rollno = rollno\n",
    "        self.marks = marks\n",
    "\n",
    "\n",
    "s1=Student('a',101,96)\n",
    "s2=Student('b',102,89)\n",
    "print(s1)\n",
    "print(s2)"
   ]
  },
  {
   "cell_type": "code",
   "execution_count": 9,
   "metadata": {},
   "outputs": [
    {
     "name": "stdout",
     "output_type": "stream",
     "text": [
      "Name:a,rollno:101,marks:96\n",
      "Name:b,rollno:102,marks:89\n"
     ]
    }
   ],
   "source": [
    "#__str__ method \n",
    "class Student:\n",
    "    def __init__(self,name,rollno,marks):\n",
    "        self.name = name\n",
    "        self.rollno = rollno\n",
    "        self.marks = marks\n",
    "\n",
    "    def __str__(self):\n",
    "        return (f'Name:{self.name},rollno:{self.rollno},marks:{self.marks}')\n",
    "\n",
    "\n",
    "s1=Student('a',101,96)\n",
    "s2=Student('b',102,89)\n",
    "print(s1)\n",
    "print(s2)"
   ]
  },
  {
   "cell_type": "code",
   "execution_count": 19,
   "metadata": {},
   "outputs": [
    {
     "name": "stdout",
     "output_type": "stream",
     "text": [
      "Number of Pages:400\n",
      "Number of Pages:700\n",
      "Number of Pages:500\n",
      "Number of Pages:1400\n",
      "Number of Pages:30000\n"
     ]
    }
   ],
   "source": [
    "class Book:\n",
    "    def __init__(self,pages):\n",
    "        self.pages = pages \n",
    "\n",
    "    def __add__(self,other):\n",
    "        return Book(self.pages+other.pages)#Object Instance of class for addition\n",
    "\n",
    "    def __str__(self):\n",
    "        return f'Number of Pages:{self.pages}'\n",
    "    \n",
    "    def __mul__(self,other):\n",
    "        return Book(self.pages*other.pages)\n",
    "\n",
    "b1=Book(100)\n",
    "b2=Book(300)\n",
    "b3=Book(400)\n",
    "b4=Book(600)\n",
    "\n",
    "print(b1+b2)\n",
    "print(b2+b3)\n",
    "print(b1+b3)\n",
    "print(b1+b2+b3+b4)\n",
    "print(b1*b2)"
   ]
  },
  {
   "cell_type": "code",
   "execution_count": 22,
   "metadata": {},
   "outputs": [
    {
     "name": "stdout",
     "output_type": "stream",
     "text": [
      "mul magic method executed\n",
      "mul magic method executed\n",
      "add magic method executed\n",
      "Number of Pages:270000\n"
     ]
    }
   ],
   "source": [
    "#Order of Execution BODMAS\n",
    "class Book:\n",
    "    def __init__(self,pages):\n",
    "        self.pages = pages \n",
    "\n",
    "    def __add__(self,other):\n",
    "        print('add magic method executed')\n",
    "        return Book(self.pages+other.pages)#Object Instance of class for addition\n",
    "\n",
    "    def __str__(self):\n",
    "        return f'Number of Pages:{self.pages}'\n",
    "    \n",
    "    def __mul__(self,other):\n",
    "        print('mul magic method executed')\n",
    "        return Book(self.pages*other.pages)\n",
    "\n",
    "b1=Book(100)\n",
    "b2=Book(300)\n",
    "b3=Book(400)\n",
    "b4=Book(600)\n",
    "\n",
    "\n",
    "print(b1*b2+b3*b4)"
   ]
  },
  {
   "cell_type": "code",
   "execution_count": 28,
   "metadata": {},
   "outputs": [
    {
     "name": "stdout",
     "output_type": "stream",
     "text": [
      "No argument method\n",
      "One argument method\n",
      "Two argument method\n",
      "Three argument method\n"
     ]
    }
   ],
   "source": [
    "#Method overloading - not supported in Python\n",
    "#Default arguments\n",
    "class Test:\n",
    "\n",
    "    def m1(self,a=None,b=None,c=None):\n",
    "        if a is not None and b is not None and c is not None:\n",
    "            print('Three argument method')\n",
    "\n",
    "        elif a is not None and b is not None:\n",
    "            print('Two argument method')\n",
    "\n",
    "        elif a is not None:\n",
    "            print('One argument method')\n",
    "        \n",
    "        else:\n",
    "            print('No argument method')\n",
    "\n",
    "t=Test()\n",
    "t.m1()\n",
    "t.m1(10)\n",
    "t.m1(10,20)\n",
    "t.m1(10,20,30)"
   ]
  },
  {
   "cell_type": "code",
   "execution_count": 31,
   "metadata": {},
   "outputs": [
    {
     "name": "stdout",
     "output_type": "stream",
     "text": [
      "0\n",
      "10\n",
      "30\n",
      "60\n",
      "3600\n"
     ]
    }
   ],
   "source": [
    "#Method overloading - not supported in Python\n",
    "#Variable length arguments\n",
    "class Test:\n",
    "\n",
    "    def m1(self,*args):\n",
    "        total = 0\n",
    "        for x in args:\n",
    "            total+=x\n",
    "        print(total)\n",
    "t=Test()\n",
    "t.m1()\n",
    "t.m1(10)\n",
    "t.m1(10,20)\n",
    "t.m1(10,20,30)\n",
    "t.m1(100,200,300,400,500,600,700,800)"
   ]
  },
  {
   "cell_type": "code",
   "execution_count": 34,
   "metadata": {},
   "outputs": [
    {
     "name": "stdout",
     "output_type": "stream",
     "text": [
      "two arg constructor\n"
     ]
    }
   ],
   "source": [
    "#Constructor Overloading -not supported in python\n",
    "\n",
    "class Test:\n",
    "    \n",
    "    def __init__(self):\n",
    "        print('no arg constructor')\n",
    "\n",
    "    def __init__(self,x):\n",
    "        print('one arg constructor')\n",
    "\n",
    "    def __init__(self,x,y):\n",
    "        print('two arg constructor')\n",
    "\n",
    "t=Test(10,20)\n",
    "\n"
   ]
  },
  {
   "cell_type": "code",
   "execution_count": 37,
   "metadata": {},
   "outputs": [
    {
     "name": "stdout",
     "output_type": "stream",
     "text": [
      "Constructor with 0|1|2|3 number of arguments\n",
      "Constructor with 0|1|2|3 number of arguments\n",
      "Constructor with 0|1|2|3 number of arguments\n",
      "Constructor with 0|1|2|3 number of arguments\n"
     ]
    }
   ],
   "source": [
    "#Constructor Overloading - Variable number of arguments\n",
    "class Test:\n",
    "\n",
    "    def __init__(self,a=None,b=None,c=None):\n",
    "        print('Constructor with 0|1|2|3 number of arguments')\n",
    "\n",
    "t=Test()\n",
    "t=Test(10)\n",
    "t=Test(10,20)\n",
    "t=Test(10,20,30)\n",
    "        "
   ]
  },
  {
   "cell_type": "code",
   "execution_count": 39,
   "metadata": {},
   "outputs": [
    {
     "name": "stdout",
     "output_type": "stream",
     "text": [
      "Constructor with variable length arguments\n",
      "Constructor with variable length arguments\n",
      "Constructor with variable length arguments\n",
      "Constructor with variable length arguments\n",
      "Constructor with variable length arguments\n"
     ]
    }
   ],
   "source": [
    "#Constructor Overloading - Variable number of arguments\n",
    "class Test:\n",
    "\n",
    "    def __init__(self,*args):\n",
    "        print('Constructor with variable length arguments')\n",
    "\n",
    "t=Test()\n",
    "t=Test(10)\n",
    "t=Test(10,20)\n",
    "t=Test(10,20,30)\n",
    "t=Test(10,20,30,40,50,60,70)\n",
    "        "
   ]
  },
  {
   "cell_type": "code",
   "execution_count": 45,
   "metadata": {},
   "outputs": [
    {
     "name": "stdout",
     "output_type": "stream",
     "text": [
      "marry b\n"
     ]
    }
   ],
   "source": [
    "#Method Overriding\n",
    "class Parent:\n",
    "    def m1(self):\n",
    "        print('property inherited')\n",
    "\n",
    "    def m2(self):\n",
    "        print('marry a')\n",
    "\n",
    "class Child(Parent):\n",
    "    def m2(self):\n",
    "        print('marry b')\n",
    "        \n",
    "c=Child()\n",
    "c.m2()"
   ]
  },
  {
   "cell_type": "code",
   "execution_count": 49,
   "metadata": {},
   "outputs": [
    {
     "name": "stdout",
     "output_type": "stream",
     "text": [
      "marry a\n",
      "marry b\n"
     ]
    }
   ],
   "source": [
    "#Method Overriding - accessing both method using super()\n",
    "class Parent:\n",
    "    def m1(self):\n",
    "        print('property inherited')\n",
    "\n",
    "    def m2(self):\n",
    "        print('marry a')\n",
    "\n",
    "class Child(Parent):\n",
    "    def m2(self):\n",
    "        super().m2()\n",
    "        print('marry b')\n",
    "        \n",
    "c=Child()\n",
    "c.m2()"
   ]
  },
  {
   "cell_type": "code",
   "execution_count": null,
   "metadata": {},
   "outputs": [
    {
     "name": "stdout",
     "output_type": "stream",
     "text": [
      "Child Constructor\n"
     ]
    }
   ],
   "source": [
    "#Constructor Overloading\n",
    "\n",
    "class Parent:\n",
    "\n",
    "    def  __init__(self):\n",
    "        print('Parent Constructor')\n",
    "\n",
    "class Child(Parent):\n",
    "    def __init__(self):\n",
    "        print('Child Constructor')\n",
    "\n",
    "c=Child()"
   ]
  },
  {
   "cell_type": "code",
   "execution_count": 51,
   "metadata": {},
   "outputs": [
    {
     "name": "stdout",
     "output_type": "stream",
     "text": [
      "Parent Constructor\n",
      "Child Constructor\n"
     ]
    }
   ],
   "source": [
    "#Constructor Overloading  - accessing both method using super()\n",
    "\n",
    "class Parent:\n",
    "\n",
    "    def  __init__(self):\n",
    "        print('Parent Constructor')\n",
    "\n",
    "class Child(Parent):\n",
    "    def __init__(self):\n",
    "        super().__init__()\n",
    "        print('Child Constructor')\n",
    "\n",
    "c=Child()"
   ]
  },
  {
   "cell_type": "code",
   "execution_count": 59,
   "metadata": {},
   "outputs": [
    {
     "name": "stdout",
     "output_type": "stream",
     "text": [
      "Name: a\n",
      "Age: 29\n",
      "Height:179cm\n",
      "Weight:67kg\n",
      "Eno: 1224324\n",
      "Esal: 28000\n"
     ]
    }
   ],
   "source": [
    "#overriding example\n",
    "\n",
    "class Person:\n",
    "\n",
    "    def __init__(self,name,age,height,weight):\n",
    "        self.name = name\n",
    "        self.age = age\n",
    "        self.height = height \n",
    "        self.weight = weight\n",
    "\n",
    "    def display(self):\n",
    "            print('Name:',self.name)\n",
    "            print('Age:',self.age)\n",
    "            print('Height:',self.height,'cm',sep='')\n",
    "            print('Weight:',self.weight,'kg',sep='')\n",
    "\n",
    "class Employee(Person):\n",
    "     def __init__(self, name, age, height, weight,eno,esal):\n",
    "          super().__init__(name, age, height, weight)\n",
    "          self.eno=eno\n",
    "          self.esal=esal\n",
    "\n",
    "     def display(self):\n",
    "            super().display()\n",
    "            print('Eno:',self.eno)\n",
    "            print('Esal:',self.esal)\n",
    "\n",
    "e=Employee('a',29,179,67,1224324,28000)\n",
    "e.display()"
   ]
  },
  {
   "cell_type": "code",
   "execution_count": null,
   "metadata": {},
   "outputs": [
    {
     "name": "stdout",
     "output_type": "stream",
     "text": [
      "6\n"
     ]
    }
   ],
   "source": [
    "#Abstract class and method\n",
    "\n",
    "from abc import abstractmethod,ABC\n",
    "class Vehicle(ABC):\n",
    "    @abstractmethod\n",
    "    def getNoofWheels(self):\n",
    "        pass\n",
    "\n",
    "class Bus(Vehicle):\n",
    "    def getNoofWheels(self):\n",
    "        return 6\n",
    "    \n",
    "b=Bus()\n",
    "print(b.getNoofWheels())\n"
   ]
  },
  {
   "cell_type": "code",
   "execution_count": 2,
   "metadata": {},
   "outputs": [
    {
     "name": "stdout",
     "output_type": "stream",
     "text": [
      "Valid\n"
     ]
    }
   ],
   "source": [
    "#Abstraction --case 1\n",
    "\n",
    "class Test:\n",
    "    def m1(self):\n",
    "        print(\"Valid\")\n",
    "\n",
    "t=Test()\n",
    "t.m1()"
   ]
  },
  {
   "cell_type": "code",
   "execution_count": null,
   "metadata": {},
   "outputs": [
    {
     "name": "stdout",
     "output_type": "stream",
     "text": [
      "Valid\n"
     ]
    }
   ],
   "source": [
    "#Abstraction --case 2\n",
    "from abc import *\n",
    "class Test:\n",
    "    @abstractmethod\n",
    "    def m1(self):\n",
    "        print(\"Valid\")\n",
    "\n",
    "t=Test()\n",
    "t.m1()"
   ]
  },
  {
   "cell_type": "code",
   "execution_count": 4,
   "metadata": {},
   "outputs": [
    {
     "name": "stdout",
     "output_type": "stream",
     "text": [
      "Valid\n"
     ]
    }
   ],
   "source": [
    "#Abstraction --case 3\n",
    "from abc import *\n",
    "class Test(ABC):\n",
    "    def m1(self):\n",
    "        print(\"Valid\")\n",
    "\n",
    "t=Test()\n",
    "t.m1()"
   ]
  },
  {
   "cell_type": "code",
   "execution_count": null,
   "metadata": {},
   "outputs": [
    {
     "ename": "TypeError",
     "evalue": "Can't instantiate abstract class Test without an implementation for abstract method 'm1'",
     "output_type": "error",
     "traceback": [
      "\u001b[0;31m---------------------------------------------------------------------------\u001b[0m",
      "\u001b[0;31mTypeError\u001b[0m                                 Traceback (most recent call last)",
      "Cell \u001b[0;32mIn[6], line 7\u001b[0m\n\u001b[1;32m      4\u001b[0m     \u001b[38;5;129m@abstractmethod\u001b[39m\n\u001b[1;32m      5\u001b[0m     \u001b[38;5;28;01mdef\u001b[39;00m \u001b[38;5;21mm1\u001b[39m(\u001b[38;5;28mself\u001b[39m):\n\u001b[1;32m      6\u001b[0m         \u001b[38;5;28mprint\u001b[39m(\u001b[38;5;124m'\u001b[39m\u001b[38;5;124mValid\u001b[39m\u001b[38;5;124m'\u001b[39m)\n\u001b[0;32m----> 7\u001b[0m t\u001b[38;5;241m=\u001b[39m\u001b[43mTest\u001b[49m\u001b[43m(\u001b[49m\u001b[43m)\u001b[49m\n\u001b[1;32m      8\u001b[0m t\u001b[38;5;241m.\u001b[39mm1()\n",
      "\u001b[0;31mTypeError\u001b[0m: Can't instantiate abstract class Test without an implementation for abstract method 'm1'"
     ]
    }
   ],
   "source": [
    "#Abstraction --case 4\n",
    "from abc import *\n",
    "class Test(ABC):\n",
    "    @abstractmethod\n",
    "    def m1(self):\n",
    "        print('Valid')\n",
    "t=Test()\n",
    "t.m1()"
   ]
  },
  {
   "cell_type": "code",
   "execution_count": 7,
   "metadata": {},
   "outputs": [
    {
     "name": "stdout",
     "output_type": "stream",
     "text": [
      "m1 method Implementation\n",
      "m2 method Implementation\n",
      "m3 method Implementation\n"
     ]
    }
   ],
   "source": [
    "#Interface\n",
    "class CollegeAutomation(ABC):\n",
    "    @abstractmethod\n",
    "    def m1(self):\n",
    "        pass\n",
    "    @abstractmethod\n",
    "    def m2(self):\n",
    "        pass\n",
    "    @abstractmethod\n",
    "    def m3(self):\n",
    "        pass\n",
    "\n",
    "class SoftComp1(CollegeAutomation):\n",
    "    def m1(self):\n",
    "        print('m1 method Implementation')\n",
    "    def m2(self):\n",
    "        print('m2 method Implementation')\n",
    "    def m3(self):\n",
    "        print('m3 method Implementation')\n",
    "s=SoftComp1()\n",
    "s.m1()\n",
    "s.m2()\n",
    "s.m3()"
   ]
  },
  {
   "cell_type": "code",
   "execution_count": null,
   "metadata": {},
   "outputs": [
    {
     "ename": "TypeError",
     "evalue": "Can't instantiate abstract class CollegeAutomation without an implementation for abstract methods 'm1', 'm2', 'm3'",
     "output_type": "error",
     "traceback": [
      "\u001b[0;31m---------------------------------------------------------------------------\u001b[0m",
      "\u001b[0;31mTypeError\u001b[0m                                 Traceback (most recent call last)",
      "Cell \u001b[0;32mIn[11], line 26\u001b[0m\n\u001b[1;32m     21\u001b[0m         \u001b[38;5;28mprint\u001b[39m(\u001b[38;5;124m'\u001b[39m\u001b[38;5;124mm3 method Implementation\u001b[39m\u001b[38;5;124m'\u001b[39m)\n\u001b[1;32m     22\u001b[0m \u001b[38;5;66;03m# c=ConcreteClass()\u001b[39;00m\n\u001b[1;32m     23\u001b[0m \u001b[38;5;66;03m# c.m1()\u001b[39;00m\n\u001b[1;32m     24\u001b[0m \u001b[38;5;66;03m# c.m2()\u001b[39;00m\n\u001b[1;32m     25\u001b[0m \u001b[38;5;66;03m# c.m3()\u001b[39;00m\n\u001b[0;32m---> 26\u001b[0m c\u001b[38;5;241m=\u001b[39m\u001b[43mCollegeAutomation\u001b[49m\u001b[43m(\u001b[49m\u001b[43m)\u001b[49m\n\u001b[1;32m     27\u001b[0m c\u001b[38;5;241m.\u001b[39mm1()\n\u001b[1;32m     28\u001b[0m c\u001b[38;5;241m.\u001b[39mm2()\n",
      "\u001b[0;31mTypeError\u001b[0m: Can't instantiate abstract class CollegeAutomation without an implementation for abstract methods 'm1', 'm2', 'm3'"
     ]
    }
   ],
   "source": [
    "#Example2 - Interface v/s AbstractClass v/s Concreteclass\n",
    "class CollegeAutomation(ABC):\n",
    "    @abstractmethod\n",
    "    def m1(self):\n",
    "        pass\n",
    "    @abstractmethod\n",
    "    def m2(self):\n",
    "        pass\n",
    "    @abstractmethod\n",
    "    def m3(self):\n",
    "        pass\n",
    "\n",
    "class AbstractClass(CollegeAutomation):\n",
    "    def m1(self):\n",
    "        print('m1 method Implementation')\n",
    "    def m2(self):\n",
    "        print('m2 method Implementation')\n",
    "\n",
    "# class ConcreteClass(AbstractClass):\n",
    "#     def m3(self):\n",
    "#         print('m3 method Implementation')\n",
    "# c=ConcreteClass()\n",
    "# c.m1()\n",
    "# c.m2()\n",
    "# c.m3()\n",
    "b=AbstractClass()\n",
    "b.m1()\n",
    "c=CollegeAutomation()\n",
    "c.m1()\n",
    "c.m2()\n",
    "c.m3()"
   ]
  },
  {
   "cell_type": "code",
   "execution_count": 17,
   "metadata": {},
   "outputs": [
    {
     "name": "stdout",
     "output_type": "stream",
     "text": [
      "Public Variable\n",
      "Public Method\n",
      "Public Variable\n",
      "Public Method\n"
     ]
    }
   ],
   "source": [
    "#Public Members\n",
    "class Test:\n",
    "    def __init__(self):\n",
    "        self.x='Public Variable'\n",
    "    def m1(self):\n",
    "        print(\"Public Method\")\n",
    "    def m2(self):\n",
    "        print(self.x)\n",
    "        self.m1()\n",
    "    \n",
    "t=Test()\n",
    "t.m2()\n",
    "print(t.x)\n",
    "t.m1()"
   ]
  },
  {
   "cell_type": "code",
   "execution_count": 18,
   "metadata": {},
   "outputs": [
    {
     "name": "stdout",
     "output_type": "stream",
     "text": [
      "Private Variable\n",
      "Private Method\n"
     ]
    },
    {
     "ename": "AttributeError",
     "evalue": "'Test' object has no attribute '__x'",
     "output_type": "error",
     "traceback": [
      "\u001b[0;31m---------------------------------------------------------------------------\u001b[0m",
      "\u001b[0;31mAttributeError\u001b[0m                            Traceback (most recent call last)",
      "Cell \u001b[0;32mIn[18], line 13\u001b[0m\n\u001b[1;32m     11\u001b[0m t\u001b[38;5;241m=\u001b[39mTest()\n\u001b[1;32m     12\u001b[0m t\u001b[38;5;241m.\u001b[39mm2()\n\u001b[0;32m---> 13\u001b[0m \u001b[38;5;28mprint\u001b[39m(\u001b[43mt\u001b[49m\u001b[38;5;241;43m.\u001b[39;49m\u001b[43m__x\u001b[49m)\n\u001b[1;32m     14\u001b[0m t\u001b[38;5;241m.\u001b[39m__m1()\n",
      "\u001b[0;31mAttributeError\u001b[0m: 'Test' object has no attribute '__x'"
     ]
    }
   ],
   "source": [
    "#Private Members\n",
    "class Test:\n",
    "    def __init__(self):\n",
    "        self.__x='Private Variable'\n",
    "    def __m1(self):\n",
    "        print(\"Private Method\")\n",
    "    def m2(self):\n",
    "        print(self.__x)\n",
    "        self.__m1()\n",
    "    \n",
    "t=Test()\n",
    "t.m2()\n",
    "print(t.__x)\n",
    "t.__m1()"
   ]
  },
  {
   "cell_type": "code",
   "execution_count": 21,
   "metadata": {},
   "outputs": [
    {
     "name": "stdout",
     "output_type": "stream",
     "text": [
      "Private Variable\n",
      "Private Method\n",
      "Private Variable\n",
      "Private Method\n"
     ]
    }
   ],
   "source": [
    "#Private Members - Name Mangling\n",
    "class Test:\n",
    "    def __init__(self):\n",
    "        self.__x='Private Variable'\n",
    "    def __m1(self):\n",
    "        print(\"Private Method\")\n",
    "    def m2(self):\n",
    "        print(self.__x)\n",
    "        self.__m1()\n",
    "    \n",
    "t=Test()\n",
    "t.m2()\n",
    "print(t._Test__x)#Accessing pvt variable outside the class\n",
    "t._Test__m1()#Accessing pvt method outside the class"
   ]
  },
  {
   "cell_type": "code",
   "execution_count": 25,
   "metadata": {},
   "outputs": [
    {
     "name": "stdout",
     "output_type": "stream",
     "text": [
      "10\n",
      "10\n",
      "10\n"
     ]
    }
   ],
   "source": [
    "#Protected Members\n",
    "\n",
    "class Test:\n",
    "    \n",
    "    def __init__(self):\n",
    "        self._x=10\n",
    "    def m1(self):\n",
    "        print(self._x)\n",
    "\n",
    "class SubTest(Test):\n",
    "    def m2(self):\n",
    "        print(self._x)\n",
    "\n",
    "s=SubTest()\n",
    "s.m1()\n",
    "s.m2()\n",
    "print(s._x)"
   ]
  },
  {
   "cell_type": "code",
   "execution_count": 32,
   "metadata": {},
   "outputs": [
    {
     "name": "stdout",
     "output_type": "stream",
     "text": [
      "Private Variable cannot accessed outside the class\n",
      "10000\n"
     ]
    }
   ],
   "source": [
    "# Data Hiding\n",
    "\n",
    "class Account:\n",
    "\n",
    "    def __init__(self,initialbalance):\n",
    "        self.__balance = initialbalance\n",
    "\n",
    "    def getbalance(self):\n",
    "        #Validation and authetication steps\n",
    "        return self.__balance\n",
    "    \n",
    "a=Account(10000)\n",
    "try:\n",
    "    print(a.__balance)\n",
    "except:\n",
    "    print('Private Variable cannot accessed outside the class')\n",
    "print(a.getbalance())\n",
    "    \n"
   ]
  },
  {
   "cell_type": "code",
   "execution_count": 35,
   "metadata": {},
   "outputs": [],
   "source": [
    "#Encapsulation - both data hiding and abstraction\n",
    "\n",
    "class Account:\n",
    "    def __init__(self,amount):\n",
    "        self.__initialbalance = amount\n",
    "\n",
    "    def balance(self):\n",
    "        #Validation | Authentication\n",
    "        return self.__initialbalance\n",
    "    \n",
    "    def deposit(self,amount):\n",
    "        #Validation | Authentication\n",
    "        self.__initialbalance=self.__initialbalance+amount\n",
    "        return self.__initialbalance\n",
    "    \n",
    "    def deposit(self,amount):\n",
    "        #Validation | Authentication\n",
    "        self.__initialbalance=self.__initialbalance-amount\n",
    "        return self.__initialbalance\n",
    "\n",
    "    "
   ]
  },
  {
   "cell_type": "code",
   "execution_count": null,
   "metadata": {},
   "outputs": [],
   "source": []
  }
 ],
 "metadata": {
  "kernelspec": {
   "display_name": "python-env",
   "language": "python",
   "name": "python3"
  },
  "language_info": {
   "codemirror_mode": {
    "name": "ipython",
    "version": 3
   },
   "file_extension": ".py",
   "mimetype": "text/x-python",
   "name": "python",
   "nbconvert_exporter": "python",
   "pygments_lexer": "ipython3",
   "version": "3.12.4"
  }
 },
 "nbformat": 4,
 "nbformat_minor": 2
}
